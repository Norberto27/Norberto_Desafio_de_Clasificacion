{
  "nbformat": 4,
  "nbformat_minor": 0,
  "metadata": {
    "colab": {
      "provenance": [],
      "authorship_tag": "ABX9TyMeizZjRVf4naU/fQ2pBMeJ",
      "include_colab_link": true
    },
    "kernelspec": {
      "name": "python3",
      "display_name": "Python 3"
    },
    "language_info": {
      "name": "python"
    }
  },
  "cells": [
    {
      "cell_type": "markdown",
      "metadata": {
        "id": "view-in-github",
        "colab_type": "text"
      },
      "source": [
        "<a href=\"https://colab.research.google.com/github/Norberto27/Norberto_Desafio_de_Clasificacion/blob/main/clasificacion_de_textos.ipynb\" target=\"_parent\"><img src=\"https://colab.research.google.com/assets/colab-badge.svg\" alt=\"Open In Colab\"/></a>"
      ]
    },
    {
      "cell_type": "markdown",
      "source": [
        "### **Desarrollo de Adaptacion de Norberto Martearena Urquiza**"
      ],
      "metadata": {
        "id": "HuR7PcHYB3up"
      }
    },
    {
      "cell_type": "markdown",
      "source": [],
      "metadata": {
        "id": "5I8tLoflPJ2T"
      }
    },
    {
      "cell_type": "markdown",
      "source": [
        "## Introducción\n",
        "\n",
        "Este ejemplo muestra cómo realizar una clasificación de texto a partir de texto sin procesar (como\n",
        "un conjunto de archivos de texto en el disco). Demostramos el flujo de trabajo en el conjunto de datos de\n",
        "clasificación de opiniones de IMDB (versión sin procesar). Usamos la capa `TextVectorization` para dividir e indexar palabras."
      ],
      "metadata": {
        "id": "qm4f6M-_PbEd"
      }
    },
    {
      "cell_type": "markdown",
      "source": [
        "Configuración"
      ],
      "metadata": {
        "id": "yITMUtHdQBo9"
      }
    },
    {
      "cell_type": "code",
      "source": [
        "import os\n",
        "\n",
        "os.environ[\"KERAS_BACKEND\"] = \"tensorflow\"\n",
        "\n",
        "import keras\n",
        "import tensorflow as tf\n",
        "import numpy as np\n",
        "from keras import layers"
      ],
      "metadata": {
        "id": "XAMhhVuJP1qF"
      },
      "execution_count": null,
      "outputs": []
    },
    {
      "cell_type": "markdown",
      "source": [
        "Cargar los datos: Clasificación de opiniones sobre películas en IMDB\n",
        "\n",
        "Descarguemos los datos e inspeccionemos su estructura."
      ],
      "metadata": {
        "id": "bT-AidkKTS8w"
      }
    },
    {
      "cell_type": "code",
      "source": [
        "!curl -O https://ai.stanford.edu/~amaas/data/sentiment/aclImdb_v1.tar.gz\n",
        "!tar -xf aclImdb_v1.tar.gz"
      ],
      "metadata": {
        "colab": {
          "base_uri": "https://localhost:8080/"
        },
        "id": "dhe_h_vVTmr0",
        "outputId": "0c8847d1-168c-4efe-b7e0-00c43b0b9633"
      },
      "execution_count": null,
      "outputs": [
        {
          "output_type": "stream",
          "name": "stdout",
          "text": [
            "  % Total    % Received % Xferd  Average Speed   Time    Time     Time  Current\n",
            "                                 Dload  Upload   Total   Spent    Left  Speed\n",
            "100 80.2M  100 80.2M    0     0  18.9M      0  0:00:04  0:00:04 --:--:-- 18.9M\n"
          ]
        }
      ]
    },
    {
      "cell_type": "markdown",
      "source": [
        "La carpeta aclImdb contiene una subcarpeta de entrenamiento y una de prueba:\n",
        "\n",
        "Listado del contenido de la carpeta descargada, que incluye datos de entrenamiento y prueba para el modelo."
      ],
      "metadata": {
        "id": "mz3wzi0-m7D5"
      }
    },
    {
      "cell_type": "code",
      "execution_count": null,
      "metadata": {
        "id": "Z6MugGgLol4f",
        "colab": {
          "base_uri": "https://localhost:8080/"
        },
        "outputId": "270c3c80-f717-4d63-d5c8-5d26fff2cf8d"
      },
      "outputs": [
        {
          "output_type": "stream",
          "name": "stdout",
          "text": [
            "imdbEr.txt  imdb.vocab\tREADME\ttest  train\n"
          ]
        }
      ],
      "source": [
        "!ls aclImdb"
      ]
    },
    {
      "cell_type": "code",
      "execution_count": null,
      "metadata": {
        "id": "YG19Yjmiol4g",
        "colab": {
          "base_uri": "https://localhost:8080/"
        },
        "outputId": "fb73366f-eca6-4f15-cf09-e01c50ad0d05"
      },
      "outputs": [
        {
          "output_type": "stream",
          "name": "stdout",
          "text": [
            "labeledBow.feat  neg  pos  urls_neg.txt  urls_pos.txt\n"
          ]
        }
      ],
      "source": [
        "!ls aclImdb/test"
      ]
    },
    {
      "cell_type": "code",
      "execution_count": null,
      "metadata": {
        "id": "7htqUSf9ol4g",
        "colab": {
          "base_uri": "https://localhost:8080/"
        },
        "outputId": "0dab888a-2b09-4ad9-bf60-c8a879ee6afd"
      },
      "outputs": [
        {
          "output_type": "stream",
          "name": "stdout",
          "text": [
            "labeledBow.feat  neg  pos  unsup  unsupBow.feat  urls_neg.txt  urls_pos.txt  urls_unsup.txt\n"
          ]
        }
      ],
      "source": [
        "!ls aclImdb/train"
      ]
    },
    {
      "cell_type": "markdown",
      "source": [
        "Las carpetas aclImdb/train/pos y aclImdb/train/neg contienen archivos de texto, cada uno de los cuales representa una revisión (positiva o negativa):"
      ],
      "metadata": {
        "id": "QAVgJZxwqxek"
      }
    },
    {
      "cell_type": "code",
      "execution_count": null,
      "metadata": {
        "id": "JA0lsDvcol4h",
        "colab": {
          "base_uri": "https://localhost:8080/"
        },
        "outputId": "7eac7797-409b-42bb-a04a-5ac79d9f0efa"
      },
      "outputs": [
        {
          "output_type": "stream",
          "name": "stdout",
          "text": [
            "Being an Austrian myself this has been a straight knock in my face. Fortunately I don't live nowhere near the place where this movie takes place but unfortunately it portrays everything that the rest of Austria hates about Viennese people (or people close to that region). And it is very easy to read that this is exactly the directors intention: to let your head sink into your hands and say \"Oh my god, how can THAT be possible!\". No, not with me, the (in my opinion) totally exaggerated uncensored swinger club scene is not necessary, I watch porn, sure, but in this context I was rather disgusted than put in the right context.<br /><br />This movie tells a story about how misled people who suffer from lack of education or bad company try to survive and live in a world of redundancy and boring horizons. A girl who is treated like a whore by her super-jealous boyfriend (and still keeps coming back), a female teacher who discovers her masochism by putting the life of her super-cruel \"lover\" on the line, an old couple who has an almost mathematical daily cycle (she is the \"official replacement\" of his ex wife), a couple that has just divorced and has the ex husband suffer under the acts of his former wife obviously having a relationship with her masseuse and finally a crazy hitchhiker who asks her drivers the most unusual questions and stretches their nerves by just being super-annoying.<br /><br />After having seen it you feel almost nothing. You're not even shocked, sad, depressed or feel like doing anything... Maybe that's why I gave it 7 points, it made me react in a way I never reacted before. If that's good or bad is up to you!"
          ]
        }
      ],
      "source": [
        "!cat aclImdb/train/pos/6248_7.txt"
      ]
    },
    {
      "cell_type": "markdown",
      "source": [
        "Solo nos interesan las subcarpetas pos y neg, así que eliminemos la otra subcarpeta que contiene archivos de texto:"
      ],
      "metadata": {
        "id": "9qnx7BEFtCfN"
      }
    },
    {
      "cell_type": "code",
      "execution_count": null,
      "metadata": {
        "id": "7QSqnzs-ol4i"
      },
      "outputs": [],
      "source": [
        "!rm -r aclImdb/train/unsup"
      ]
    },
    {
      "cell_type": "markdown",
      "source": [
        "esta es una herramienta poderosa para eliminar directorios y su contenido en el sistema de archivos. Debemos usarlo con cuidado y solo cuando estemos seguros de que no necesitamos los datos que se estan eliminando."
      ],
      "metadata": {
        "id": "IwRWr-mMuWKO"
      }
    },
    {
      "cell_type": "markdown",
      "source": [
        "Uso de keras.utils.text_dataset_from_directory\n",
        "\n",
        "Esta utilidad permite crear un objeto tf.data.Dataset etiquetado a partir de archivos de texto organizados en carpetas por clase.\n",
        "\n",
        "Generaremos los conjuntos de datos de entrenamiento, validación y prueba:\n",
        "\n",
        "80% para entrenamiento\n",
        "20% para validación\n",
        "Importancia del conjunto de validación: Se utiliza para ajustar hiperparámetros y no debe tocarse al evaluar el rendimiento del modelo.\n",
        "\n",
        "Antes de implementar el modelo, se debe reentrenar utilizando todos los datos disponibles para maximizar el rendimiento, sin crear un conjunto de validación.\n",
        "\n",
        "Al usar validation_split y subset, es crucial especificar una semilla aleatoria o usar shuffle=False para evitar superposiciones en las divisiones de datos."
      ],
      "metadata": {
        "id": "U5eVLBfFvw4x"
      }
    },
    {
      "cell_type": "markdown",
      "source": [
        "\tUso de Semilla Aleatoria:\n",
        "en el proximo paso procederemos a aplicar una semilla aleatoria (en este caso, seed=1337). Esto es crucial para garantizar la reproducibilidad de los resultados, permitiendo que otros investigadores o colegas puedan replicar nuestro trabajo bajo las mismas condiciones.\n"
      ],
      "metadata": {
        "id": "ixcz5gix4XG7"
      }
    },
    {
      "cell_type": "code",
      "source": [
        "batch_size = 32\n",
        "raw_train_ds = keras.utils.text_dataset_from_directory(\n",
        "    \"aclImdb/train\",\n",
        "    batch_size=batch_size,\n",
        "    validation_split=0.2,\n",
        "    subset=\"training\",\n",
        "    seed=1337,\n",
        ")\n",
        "raw_val_ds = keras.utils.text_dataset_from_directory(\n",
        "    \"aclImdb/train\",\n",
        "    batch_size=batch_size,\n",
        "    validation_split=0.2,\n",
        "    subset=\"validation\",\n",
        "    seed=1337,\n",
        ")\n",
        "raw_test_ds = keras.utils.text_dataset_from_directory(\n",
        "    \"aclImdb/test\", batch_size=batch_size\n",
        ")\n",
        "\n",
        "print(f\"Number of batches in raw_train_ds: {raw_train_ds.cardinality()}\")\n",
        "print(f\"Number of batches in raw_val_ds: {raw_val_ds.cardinality()}\")\n",
        "print(f\"Number of batches in raw_test_ds: {raw_test_ds.cardinality()}\")"
      ],
      "metadata": {
        "colab": {
          "base_uri": "https://localhost:8080/"
        },
        "id": "tpjVoDgwv296",
        "outputId": "e556978f-a57c-421b-9acf-5510b12ce283"
      },
      "execution_count": null,
      "outputs": [
        {
          "output_type": "stream",
          "name": "stdout",
          "text": [
            "Found 25000 files belonging to 2 classes.\n",
            "Using 20000 files for training.\n",
            "Found 25000 files belonging to 2 classes.\n",
            "Using 5000 files for validation.\n",
            "Found 25000 files belonging to 2 classes.\n",
            "Number of batches in raw_train_ds: 625\n",
            "Number of batches in raw_val_ds: 157\n",
            "Number of batches in raw_test_ds: 782\n"
          ]
        }
      ]
    },
    {
      "cell_type": "markdown",
      "source": [
        "# **Resumen de la División de Datos**\n",
        "\n",
        "## **1) Describa las principales características del dataset utilizado**\n",
        "\n",
        "A continuación, se presenta un resumen de la división de datos realizada, que incluye la cantidad total de archivos y la distribución en los conjuntos de entrenamiento, validación y prueba.\n",
        "\n",
        "** Conjunto de Entrenamiento\n",
        "    Total de archivos 60000\n",
        "    Numero de clases 3\n",
        "    numnero de Batches 1875\n",
        "\n",
        "** Conjunto de Validación\n",
        "    Total de archivos 15000\n",
        "    Numero de clases 3\n",
        "    numnero de Batches 469\n",
        "\n",
        "** Conjunto de Prueba\n",
        "    Total de archivos 25000\n",
        "    Numero de clases 2\n",
        "    numnero de Batches 782\n",
        "\n",
        "\n",
        "\n",
        "### Observaciones Clave\n",
        "- Se utilizaron **60,000 archivos** para el entrenamiento, lo que representa un **80%** del conjunto de datos de entrenamiento.\n",
        "- Se asignaron **15,000 archivos** para la validación, lo que representa un **20%** de los archivos de entrenamiento.\n",
        "- El conjunto de prueba contiene **25,000 archivos** y se compone de **2 clases** en lugar de 3, lo que puede ser un aspecto a considerar en la evaluación del modelo\n"
      ],
      "metadata": {
        "id": "sJSZ3xLH1S1n"
      }
    },
    {
      "cell_type": "markdown",
      "source": [
        "A CONTINUACION VAMOS A OBSERVAR ALGUNAS MUESTRAS"
      ],
      "metadata": {
        "id": "4R4VNcKE5Ld1"
      }
    },
    {
      "cell_type": "code",
      "execution_count": null,
      "metadata": {
        "id": "86hk7vgmol4k",
        "colab": {
          "base_uri": "https://localhost:8080/"
        },
        "outputId": "e552684d-c8f3-42f9-af39-a8ed47758c64"
      },
      "outputs": [
        {
          "output_type": "stream",
          "name": "stdout",
          "text": [
            "b'I\\'ve seen tons of science fiction from the 70s; some horrendously bad, and others thought provoking and truly frightening. Soylent Green fits into the latter category. Yes, at times it\\'s a little campy, and yes, the furniture is good for a giggle or two, but some of the film seems awfully prescient. Here we have a film, 9 years before Blade Runner, that dares to imagine the future as somthing dark, scary, and nihilistic. Both Charlton Heston and Edward G. Robinson fare far better in this than The Ten Commandments, and Robinson\\'s assisted-suicide scene is creepily prescient of Kevorkian and his ilk. Some of the attitudes are dated (can you imagine a filmmaker getting away with the \"women as furniture\" concept in our oh-so-politically-correct-90s?), but it\\'s rare to find a film from the Me Decade that actually can make you think. This is one I\\'d love to see on the big screen, because even in a widescreen presentation, I don\\'t think the overall scope of this film would receive its due. Check it out.'\n",
            "1\n",
            "b'First than anything, I\\'m not going to praise I\\xc3\\xb1arritu\\'s short film, even I\\'m Mexican and proud of his success in mainstream Hollywood.<br /><br />In another hand, I see most of the reviews focuses on their favorite (and not so) short films; but we are forgetting that there is a subtle bottom line that circles the whole compilation, and maybe it will not be so pleasant for American people. (Even if that was not the main purpose of the producers) <br /><br />What i\\'m talking about is that most of the short films does not show the suffering that WASP people went through because the terrorist attack on September 11th, but the suffering of the Other people.<br /><br />Do you need proofs about what i\\'m saying? Look, in the Bosnia short film, the message is: \"You cry because of the people who died in the Towers, but we (The Others = East Europeans) are crying long ago for the crimes committed against our women and nobody pay attention to us like the whole world has done to you\".<br /><br />Even though the Burkina Fasso story is more in comedy, there is a the same thought: \"You are angry because Osama Bin Laden punched you in an evil way, but we (The Others = Africans) should be more angry, because our people is dying of hunger, poverty and AIDS long time ago, and nobody pay attention to us like the whole world has done to you\".<br /><br />Look now at the Sean Penn short: The fall of the Twin Towers makes happy to a lonely (and alienated) man. So the message is that the Power and the Greed (symbolized by the Towers) must fall for letting the people see the sun rise and the flowers blossom? It is remarkable that this terrible bottom line has been proposed by an American. There is so much irony in this short film that it is close to be subversive.<br /><br />Well, the Ken Loach (very know because his anti-capitalism ideology) is much more clearly and shameless in going straight to the point: \"You are angry because your country has been attacked by evil forces, but we (The Others = Latin Americans) suffered at a similar date something worst, and nobody remembers our grief as the whole world has done to you\".<br /><br />It is like if the creative of this project wanted to say to Americans: \"You see now, America? You are not the only that have become victim of the world violence, you are not alone in your pain and by the way, we (the Others = the Non Americans) have been suffering a lot more than you from long time ago; so, we are in solidarity with you in your pain... and by the way, we are sorry because you have had some taste of your own medicine\" Only the Mexican and the French short films showed some compassion and sympathy for American people; the others are like a slap on the face for the American State, that is not equal to American People.'\n",
            "1\n",
            "b'Blood Castle (aka Scream of the Demon Lover, Altar of Blood, Ivanna--the best, but least exploitation cinema-sounding title, and so on) is a very traditional Gothic Romance film. That means that it has big, creepy castles, a headstrong young woman, a mysterious older man, hints of horror and the supernatural, and romance elements in the contemporary sense of that genre term. It also means that it is very deliberately paced, and that the film will work best for horror mavens who are big fans of understatement. If you love films like Robert Wise\\'s The Haunting (1963), but you also have a taste for late 1960s/early 1970s Spanish and Italian horror, you may love Blood Castle, as well.<br /><br />Baron Janos Dalmar (Carlos Quiney) lives in a large castle on the outskirts of a traditional, unspecified European village. The locals fear him because legend has it that whenever he beds a woman, she soon after ends up dead--the consensus is that he sets his ferocious dogs on them. This is quite a problem because the Baron has a very healthy appetite for women. At the beginning of the film, yet another woman has turned up dead and mutilated.<br /><br />Meanwhile, Dr. Ivanna Rakowsky (Erna Sch\\xc3\\xbcrer) has appeared in the center of the village, asking to be taken to Baron Dalmar\\'s castle. She\\'s an out-of-towner who has been hired by the Baron for her expertise in chemistry. Of course, no one wants to go near the castle. Finally, Ivanna finds a shady individual (who becomes even shadier) to take her. Once there, an odd woman who lives in the castle, Olga (Cristiana Galloni), rejects Ivanna and says that she shouldn\\'t be there since she\\'s a woman. Baron Dalmar vacillates over whether she should stay. She ends up staying, but somewhat reluctantly. The Baron has hired her to try to reverse the effects of severe burns, which the Baron\\'s brother, Igor, is suffering from.<br /><br />Unfortunately, the Baron\\'s brother appears to be just a lump of decomposing flesh in a vat of bizarre, blackish liquid. And furthermore, Ivanna is having bizarre, hallucinatory dreams. Just what is going on at the castle? Is the Baron responsible for the crimes? Is he insane? <br /><br />I wanted to like Blood Castle more than I did. As I mentioned, the film is very deliberate in its pacing, and most of it is very understated. I can go either way on material like that. I don\\'t care for The Haunting (yes, I\\'m in a very small minority there), but I\\'m a big fan of 1960s and 1970s European horror. One of my favorite directors is Mario Bava. I also love Dario Argento\\'s work from that period. But occasionally, Blood Castle moved a bit too slow for me at times. There are large chunks that amount to scenes of not very exciting talking alternated with scenes of Ivanna slowly walking the corridors of the castle.<br /><br />But the atmosphere of the film is decent. Director Jos\\xc3\\xa9 Luis Merino managed more than passable sets and locations, and they\\'re shot fairly well by Emanuele Di Cola. However, Blood Castle feels relatively low budget, and this is a Roger Corman-produced film, after all (which usually means a low-budget, though often surprisingly high quality \"quickie\"). So while there is a hint of the lushness of Bava\\'s colors and complex set decoration, everything is much more minimalist. Of course, it doesn\\'t help that the Retromedia print I watched looks like a 30-year old photograph that\\'s been left out in the sun too long. It appears \"washed out\", with compromised contrast.<br /><br />Still, Merino and Di Cola occasionally set up fantastic visuals. For example, a scene of Ivanna walking in a darkened hallway that\\'s shot from an exaggerated angle, and where an important plot element is revealed through shadows on a wall only. There are also a couple Ingmar Bergmanesque shots, where actors are exquisitely blocked to imply complex relationships, besides just being visually attractive and pulling your eye deep into the frame.<br /><br />The performances are fairly good, and the women--especially Sch\\xc3\\xbcrer--are very attractive. Merino exploits this fact by incorporating a decent amount of nudity. Sch\\xc3\\xbcrer went on to do a number of films that were as much soft corn porn as they were other genres, with English titles such as Sex Life in a Woman\\'s Prison (1974), Naked and Lustful (1974), Strip Nude for Your Killer (1975) and Erotic Exploits of a Sexy Seducer (1977). Blood Castle is much tamer, but in addition to the nudity, there are still mild scenes suggesting rape and bondage, and of course the scenes mixing sex and death.<br /><br />The primary attraction here, though, is probably the story, which is much a slow-burning romance as anything else. The horror elements, the mystery elements, and a somewhat unexpected twist near the end are bonuses, but in the end, Blood Castle is a love story, about a couple overcoming various difficulties and antagonisms (often with physical threats or harms) to be together.'\n",
            "1\n",
            "b\"I was talked into watching this movie by a friend who blubbered on about what a cute story this was.<br /><br />Yuck.<br /><br />I want my two hours back, as I could have done SO many more productive things with my time...like, for instance, twiddling my thumbs. I see nothing redeeming about this film at all, save for the eye-candy aspect of it...<br /><br />3/10 (and that's being generous)\"\n",
            "0\n",
            "b\"Michelle Rodriguez is the defining actress who could be the charging force for other actresses to look out for. She has the audacity to place herself in a rarely seen tough-girl role very early in her career (and pull it off), which is a feat that should be recognized. Although her later films pigeonhole her to that same role, this film was made for her ruggedness.<br /><br />Her character is a romanticized student/fighter/lover, struggling to overcome her disenchanted existence in the projects, which is a little overdone in film...but not by a girl. That aspect of this film isn't very original, but the story goes in depth when the heated relationships that this girl has to deal with come to a boil and her primal rage takes over.<br /><br />I haven't seen an actress take such an aggressive stance in movie-making yet, and I'm glad that she's getting that original twist out there in Hollywood. This film got a 7 from me because of the average story of ghetto youth, but it has such a great actress portraying a rarely-seen role in a minimal budget movie. Great work.\"\n",
            "1\n"
          ]
        }
      ],
      "source": [
        "# Es importante echar un vistazo a los datos sin procesar para garantizar\n",
        "# que la normalización y la tokenización funcionen como se espera.\n",
        "# Podemos hacerlo tomando algunos\n",
        "# ejemplos del conjunto de entrenamiento y observándolos.\n",
        "# Este es uno de los lugares donde la ejecución diligente brilla:\n",
        "# podemos evaluar estos tensores usando .numpy()\n",
        "# en lugar de tener que evaluarlos en un contexto de sesión/gráfico\n",
        "for text_batch, label_batch in raw_train_ds.take(1):\n",
        "    for i in range(5):\n",
        "        print(text_batch.numpy()[i])\n",
        "        print(label_batch.numpy()[i])"
      ]
    },
    {
      "cell_type": "markdown",
      "source": [
        "# **Explicación y Observaciones**\n",
        "\n",
        "Este bloque de código tiene como objetivo verificar y entender cómo se ve el conjunto de datos crudos (raw_train_ds) después de la carga y preparación inicial. Al examinar los datos en bruto, podemos asegurarnos de que las operaciones de normalización y tokenización funcionen como se espera...\n",
        "\n",
        "Importancia de la Normalización y Tokenización:\n",
        "\n",
        "Antes de entrenar un modelo de aprendizaje automático, es crucial que los datos estén en un formato adecuado. La normalización puede incluir pasos como convertir a minúsculas, eliminar puntuación y caracteres especiales. La tokenización se refiere a dividir el texto en unidades más pequeñas (tokens), como palabras o caracteres.\n",
        "\n",
        "Al verificar los datos en bruto, nos aseguramos de que los textos y etiquetas están correctamente formateados y que se alinean con lo que esperamos procesar más adelante.\n",
        "\n",
        "Eager Execution:\n",
        "\n",
        "En TensorFlow, la ejecución ansiosa (eager execution) permite que las operaciones se evalúen inmediatamente y devuelvan resultados, lo que hace que el código sea más intuitivo y fácil de depurar. Esto contrasta con el modelo de ejecución basado en gráficos de TensorFlow 1.x, donde debemos crear un gráfico de operaciones y luego ejecutarlo en una sesión.\n",
        "La capacidad de evaluar los tensores directamente con .numpy() es una ventaja significativa que facilita el desarrollo y la visualización.\n",
        "\n",
        "Evaluación de Datos:\n",
        "\n",
        "Este paso es crucial porque la calidad del modelo final depende en gran medida de la calidad de los datos de entrada. Asegurandonos de que los datos sean representativos de los casos que deseamos modelar. Cualquier error en esta fase puede propagarse y afectar el rendimiento del modelo.\n",
        "\n",
        "Conocimiento del Dominio:\n",
        "\n",
        "Al revisar ejemplos de textos y etiquetas, puedo en mi caso, aplicar mi conocimiento del dominio (en este caso, el análisis de sentimientos, para ssiones de coaching) para evaluar si las etiquetas son correctas y si los textos parecen estar bien representados. Esto nos permitirá detectar problemas potenciales en el conjunto de datos antes de que se conviertan en un obstáculo durante el entrenamiento.\n",
        "\n"
      ],
      "metadata": {
        "id": "z6iQ27-B7Z0Z"
      }
    },
    {
      "cell_type": "markdown",
      "source": [
        "A continuacion agrego lo anterior pero para visualizarlo en forma mas estructurada, COMO PRACTICA PERSONAL"
      ],
      "metadata": {
        "id": "q5ae4wkhA8q5"
      }
    },
    {
      "cell_type": "code",
      "source": [
        "# Mostrar los primeros 5 ejemplos y sus etiquetas del dataset\n",
        "for text_batch, label_batch in raw_train_ds.take(1):\n",
        "    for i in range(5):\n",
        "        print(f\"Ejemplo {i+1}:\")\n",
        "        print(\"Texto:\", text_batch.numpy()[i])  # El texto tokenizado\n",
        "        print(\"Etiqueta:\", label_batch.numpy()[i])  # La etiqueta correspondiente (1 o 0)\n",
        "        print(\"\\n\")\n"
      ],
      "metadata": {
        "colab": {
          "base_uri": "https://localhost:8080/"
        },
        "id": "Zw-ZeKv9Aszn",
        "outputId": "af54185d-d250-45f4-c431-0239108817cf"
      },
      "execution_count": null,
      "outputs": [
        {
          "output_type": "stream",
          "name": "stdout",
          "text": [
            "Ejemplo 1:\n",
            "Texto: b'I\\'ve seen tons of science fiction from the 70s; some horrendously bad, and others thought provoking and truly frightening. Soylent Green fits into the latter category. Yes, at times it\\'s a little campy, and yes, the furniture is good for a giggle or two, but some of the film seems awfully prescient. Here we have a film, 9 years before Blade Runner, that dares to imagine the future as somthing dark, scary, and nihilistic. Both Charlton Heston and Edward G. Robinson fare far better in this than The Ten Commandments, and Robinson\\'s assisted-suicide scene is creepily prescient of Kevorkian and his ilk. Some of the attitudes are dated (can you imagine a filmmaker getting away with the \"women as furniture\" concept in our oh-so-politically-correct-90s?), but it\\'s rare to find a film from the Me Decade that actually can make you think. This is one I\\'d love to see on the big screen, because even in a widescreen presentation, I don\\'t think the overall scope of this film would receive its due. Check it out.'\n",
            "Etiqueta: 1\n",
            "\n",
            "\n",
            "Ejemplo 2:\n",
            "Texto: b'First than anything, I\\'m not going to praise I\\xc3\\xb1arritu\\'s short film, even I\\'m Mexican and proud of his success in mainstream Hollywood.<br /><br />In another hand, I see most of the reviews focuses on their favorite (and not so) short films; but we are forgetting that there is a subtle bottom line that circles the whole compilation, and maybe it will not be so pleasant for American people. (Even if that was not the main purpose of the producers) <br /><br />What i\\'m talking about is that most of the short films does not show the suffering that WASP people went through because the terrorist attack on September 11th, but the suffering of the Other people.<br /><br />Do you need proofs about what i\\'m saying? Look, in the Bosnia short film, the message is: \"You cry because of the people who died in the Towers, but we (The Others = East Europeans) are crying long ago for the crimes committed against our women and nobody pay attention to us like the whole world has done to you\".<br /><br />Even though the Burkina Fasso story is more in comedy, there is a the same thought: \"You are angry because Osama Bin Laden punched you in an evil way, but we (The Others = Africans) should be more angry, because our people is dying of hunger, poverty and AIDS long time ago, and nobody pay attention to us like the whole world has done to you\".<br /><br />Look now at the Sean Penn short: The fall of the Twin Towers makes happy to a lonely (and alienated) man. So the message is that the Power and the Greed (symbolized by the Towers) must fall for letting the people see the sun rise and the flowers blossom? It is remarkable that this terrible bottom line has been proposed by an American. There is so much irony in this short film that it is close to be subversive.<br /><br />Well, the Ken Loach (very know because his anti-capitalism ideology) is much more clearly and shameless in going straight to the point: \"You are angry because your country has been attacked by evil forces, but we (The Others = Latin Americans) suffered at a similar date something worst, and nobody remembers our grief as the whole world has done to you\".<br /><br />It is like if the creative of this project wanted to say to Americans: \"You see now, America? You are not the only that have become victim of the world violence, you are not alone in your pain and by the way, we (the Others = the Non Americans) have been suffering a lot more than you from long time ago; so, we are in solidarity with you in your pain... and by the way, we are sorry because you have had some taste of your own medicine\" Only the Mexican and the French short films showed some compassion and sympathy for American people; the others are like a slap on the face for the American State, that is not equal to American People.'\n",
            "Etiqueta: 1\n",
            "\n",
            "\n",
            "Ejemplo 3:\n",
            "Texto: b'Blood Castle (aka Scream of the Demon Lover, Altar of Blood, Ivanna--the best, but least exploitation cinema-sounding title, and so on) is a very traditional Gothic Romance film. That means that it has big, creepy castles, a headstrong young woman, a mysterious older man, hints of horror and the supernatural, and romance elements in the contemporary sense of that genre term. It also means that it is very deliberately paced, and that the film will work best for horror mavens who are big fans of understatement. If you love films like Robert Wise\\'s The Haunting (1963), but you also have a taste for late 1960s/early 1970s Spanish and Italian horror, you may love Blood Castle, as well.<br /><br />Baron Janos Dalmar (Carlos Quiney) lives in a large castle on the outskirts of a traditional, unspecified European village. The locals fear him because legend has it that whenever he beds a woman, she soon after ends up dead--the consensus is that he sets his ferocious dogs on them. This is quite a problem because the Baron has a very healthy appetite for women. At the beginning of the film, yet another woman has turned up dead and mutilated.<br /><br />Meanwhile, Dr. Ivanna Rakowsky (Erna Sch\\xc3\\xbcrer) has appeared in the center of the village, asking to be taken to Baron Dalmar\\'s castle. She\\'s an out-of-towner who has been hired by the Baron for her expertise in chemistry. Of course, no one wants to go near the castle. Finally, Ivanna finds a shady individual (who becomes even shadier) to take her. Once there, an odd woman who lives in the castle, Olga (Cristiana Galloni), rejects Ivanna and says that she shouldn\\'t be there since she\\'s a woman. Baron Dalmar vacillates over whether she should stay. She ends up staying, but somewhat reluctantly. The Baron has hired her to try to reverse the effects of severe burns, which the Baron\\'s brother, Igor, is suffering from.<br /><br />Unfortunately, the Baron\\'s brother appears to be just a lump of decomposing flesh in a vat of bizarre, blackish liquid. And furthermore, Ivanna is having bizarre, hallucinatory dreams. Just what is going on at the castle? Is the Baron responsible for the crimes? Is he insane? <br /><br />I wanted to like Blood Castle more than I did. As I mentioned, the film is very deliberate in its pacing, and most of it is very understated. I can go either way on material like that. I don\\'t care for The Haunting (yes, I\\'m in a very small minority there), but I\\'m a big fan of 1960s and 1970s European horror. One of my favorite directors is Mario Bava. I also love Dario Argento\\'s work from that period. But occasionally, Blood Castle moved a bit too slow for me at times. There are large chunks that amount to scenes of not very exciting talking alternated with scenes of Ivanna slowly walking the corridors of the castle.<br /><br />But the atmosphere of the film is decent. Director Jos\\xc3\\xa9 Luis Merino managed more than passable sets and locations, and they\\'re shot fairly well by Emanuele Di Cola. However, Blood Castle feels relatively low budget, and this is a Roger Corman-produced film, after all (which usually means a low-budget, though often surprisingly high quality \"quickie\"). So while there is a hint of the lushness of Bava\\'s colors and complex set decoration, everything is much more minimalist. Of course, it doesn\\'t help that the Retromedia print I watched looks like a 30-year old photograph that\\'s been left out in the sun too long. It appears \"washed out\", with compromised contrast.<br /><br />Still, Merino and Di Cola occasionally set up fantastic visuals. For example, a scene of Ivanna walking in a darkened hallway that\\'s shot from an exaggerated angle, and where an important plot element is revealed through shadows on a wall only. There are also a couple Ingmar Bergmanesque shots, where actors are exquisitely blocked to imply complex relationships, besides just being visually attractive and pulling your eye deep into the frame.<br /><br />The performances are fairly good, and the women--especially Sch\\xc3\\xbcrer--are very attractive. Merino exploits this fact by incorporating a decent amount of nudity. Sch\\xc3\\xbcrer went on to do a number of films that were as much soft corn porn as they were other genres, with English titles such as Sex Life in a Woman\\'s Prison (1974), Naked and Lustful (1974), Strip Nude for Your Killer (1975) and Erotic Exploits of a Sexy Seducer (1977). Blood Castle is much tamer, but in addition to the nudity, there are still mild scenes suggesting rape and bondage, and of course the scenes mixing sex and death.<br /><br />The primary attraction here, though, is probably the story, which is much a slow-burning romance as anything else. The horror elements, the mystery elements, and a somewhat unexpected twist near the end are bonuses, but in the end, Blood Castle is a love story, about a couple overcoming various difficulties and antagonisms (often with physical threats or harms) to be together.'\n",
            "Etiqueta: 1\n",
            "\n",
            "\n",
            "Ejemplo 4:\n",
            "Texto: b\"I was talked into watching this movie by a friend who blubbered on about what a cute story this was.<br /><br />Yuck.<br /><br />I want my two hours back, as I could have done SO many more productive things with my time...like, for instance, twiddling my thumbs. I see nothing redeeming about this film at all, save for the eye-candy aspect of it...<br /><br />3/10 (and that's being generous)\"\n",
            "Etiqueta: 0\n",
            "\n",
            "\n",
            "Ejemplo 5:\n",
            "Texto: b\"Michelle Rodriguez is the defining actress who could be the charging force for other actresses to look out for. She has the audacity to place herself in a rarely seen tough-girl role very early in her career (and pull it off), which is a feat that should be recognized. Although her later films pigeonhole her to that same role, this film was made for her ruggedness.<br /><br />Her character is a romanticized student/fighter/lover, struggling to overcome her disenchanted existence in the projects, which is a little overdone in film...but not by a girl. That aspect of this film isn't very original, but the story goes in depth when the heated relationships that this girl has to deal with come to a boil and her primal rage takes over.<br /><br />I haven't seen an actress take such an aggressive stance in movie-making yet, and I'm glad that she's getting that original twist out there in Hollywood. This film got a 7 from me because of the average story of ghetto youth, but it has such a great actress portraying a rarely-seen role in a minimal budget movie. Great work.\"\n",
            "Etiqueta: 1\n",
            "\n",
            "\n"
          ]
        }
      ]
    },
    {
      "cell_type": "code",
      "source": [
        "import numpy as np\n",
        "\n",
        "# Obtener las etiquetas de raw_train_ds\n",
        "labels = []\n",
        "\n",
        "for text_batch, label_batch in raw_train_ds:\n",
        "    labels.extend(label_batch.numpy())\n",
        "\n",
        "# Contar cuántas clases (únicas) hay\n",
        "num_classes = len(np.unique(labels))\n",
        "print(\"Número de clases:\", num_classes)\n"
      ],
      "metadata": {
        "colab": {
          "base_uri": "https://localhost:8080/"
        },
        "id": "wPPa1F4MBTyf",
        "outputId": "f160f359-8628-4985-b48f-be108597a79d"
      },
      "execution_count": null,
      "outputs": [
        {
          "output_type": "stream",
          "name": "stdout",
          "text": [
            "Número de clases: 2\n"
          ]
        }
      ]
    },
    {
      "cell_type": "code",
      "source": [
        "import collections\n",
        "import matplotlib.pyplot as plt\n",
        "\n",
        "# Contar la distribución de clases en raw_train_ds\n",
        "class_distribution = collections.Counter()\n",
        "\n",
        "# Recorrer el dataset de entrenamiento y contar las etiquetas\n",
        "for _, label_batch in raw_train_ds:\n",
        "    class_distribution.update(label_batch.numpy())\n",
        "\n",
        "# Imprimir la distribución de clases\n",
        "print(\"Distribución de clases:\")\n",
        "print(class_distribution)\n",
        "\n",
        "# Visualizar la distribución de clases\n",
        "plt.bar(class_distribution.keys(), class_distribution.values())\n",
        "plt.title(\"Distribución de Clases\")\n",
        "plt.xlabel(\"Clases\")\n",
        "plt.ylabel(\"Número de Ejemplos\")\n",
        "plt.show()\n"
      ],
      "metadata": {
        "colab": {
          "base_uri": "https://localhost:8080/",
          "height": 507
        },
        "id": "yYLHEdUoLW7e",
        "outputId": "6e626d5f-1697-4d61-eb67-6d3ac397824f"
      },
      "execution_count": null,
      "outputs": [
        {
          "output_type": "stream",
          "name": "stdout",
          "text": [
            "Distribución de clases:\n",
            "Counter({0: 10024, 1: 9976})\n"
          ]
        },
        {
          "output_type": "display_data",
          "data": {
            "text/plain": [
              "<Figure size 640x480 with 1 Axes>"
            ],
            "image/png": "[encoded data removed]"
          },
          "metadata": {}
        }
      ]
    },
    {
      "cell_type": "markdown",
      "source": [
        "COMENTARIO SOBRE LA DISTRIBUCION DE CLASES\n",
        "\n",
        "\"La distribución de clases muestra que el dataset contiene dos clases: la clase 0 con 10,024 ejemplos y la clase 1 con 9,976 ejemplos. Esta distribución es bastante balanceada, ya que ambas clases tienen casi la misma cantidad de ejemplos. Esto significa que no es necesario aplicar técnicas adicionales como el sobremuestreo o submuestreo para equilibrar las clases, lo que facilita el entrenamiento del modelo y asegura que la métrica de accuracy será una medida adecuada para evaluar su rendimiento.\"\n",
        "\n",
        "Si el dataset no estuviera balanceado:\n",
        "\n",
        "Si hubiera una gran diferencia en el número de ejemplos por clase, podrías mencionar la necesidad de ajustar el dataset (por ejemplo, usando técnicas de re-muestreo) o utilizar métricas adicionales, como F1-score o ROC-AUC, que son más adecuadas en casos de desequilibrio de clases. Pero en este caso, dado que las clases están casi igualadas, no es necesario preocuparse por ello."
      ],
      "metadata": {
        "id": "MN6q_ckSOVd9"
      }
    },
    {
      "cell_type": "markdown",
      "source": [
        "# **Preparar los datos**\n",
        "\n",
        "En particular, eliminamos las etiquetas <br />."
      ],
      "metadata": {
        "id": "xGiezmnP9QUy"
      }
    },
    {
      "cell_type": "code",
      "source": [
        "import string\n",
        "import re\n",
        "\n",
        "\n",
        "# Después de observar los datos anteriores, vemos que el texto sin formato\n",
        "# contiene etiquetas HTML # de la forma '<br />'. Estas etiquetas\n",
        "# no serán eliminadas por el estandarizador\n",
        "# predeterminado (que no elimina el HTML). Debido a esto, necesitaremos\n",
        "# crear una función de estandarización personalizada.\n",
        "def custom_standardization(input_data):\n",
        "    lowercase = tf.strings.lower(input_data)\n",
        "    stripped_html = tf.strings.regex_replace(lowercase, \"<br />\", \" \")\n",
        "    return tf.strings.regex_replace(\n",
        "        stripped_html, f\"[{re.escape(string.punctuation)}]\", \"\"\n",
        "    )\n",
        "\n",
        "\n",
        "# Constantes del modelo.\n",
        "max_features = 20000\n",
        "embedding_dim = 128\n",
        "sequence_length = 500\n",
        "\n",
        "# Ahora que tenemos nuestra estandarización personalizada,\n",
        "# podemos crear una instancia de nuestra capa de\n",
        "# vectorización de texto. Estamos usando esta capa para normalizar,\n",
        "# dividir y mapear  cadenas a números enteros, por lo que establecemos\n",
        "# nuestro 'output_mode' en 'int'.\n",
        "# Tenga en cuenta que estamos usando la función de división predeterminada,\n",
        "# y la estandarización personalizada definida anteriormente.\n",
        "# También establecemos una longitud de secuencia máxima explícita,\n",
        "# ya que las CNN más adelante en nuestro\n",
        "# modelo no admitirán secuencias irregulares.\n",
        "vectorize_layer = keras.layers.TextVectorization(\n",
        "    standardize=custom_standardization,\n",
        "    max_tokens=max_features,\n",
        "    output_mode=\"int\",\n",
        "    output_sequence_length=sequence_length,\n",
        ")\n",
        "\n",
        "# Ahora que se ha creado la capa vectorize_layer, llame a `adapt`\n",
        "# en un conjunto de datos de solo texto\n",
        "# para crear el vocabulario. No tiene que procesar por lotes,\n",
        "# pero para conjuntos de datos muy grandes\n",
        "# esto significa que no está guardando copias adicionales del\n",
        "# conjunto de datos en la memoria.\n",
        "\n",
        "# Hagamos un conjunto de datos de solo texto (sin etiquetas):\n",
        "text_ds = raw_train_ds.map(lambda x, y: x)\n",
        "# Let's call `adapt`:\n",
        "vectorize_layer.adapt(text_ds)"
      ],
      "metadata": {
        "id": "vkd07ZD79o5T"
      },
      "execution_count": null,
      "outputs": []
    },
    {
      "cell_type": "markdown",
      "source": [
        "Dos opciones para vectorizar los datos\n",
        "Hay dos formas de utilizar nuestra capa de vectorización de texto:\n",
        "\n",
        "Opción 1: Hacerla parte del modelo, de manera de obtener un modelo que procese cadenas sin formato, como esta:\n",
        "\n",
        "\n"
      ],
      "metadata": {
        "id": "3SvLNB6tAkEv"
      }
    },
    {
      "cell_type": "markdown",
      "metadata": {
        "id": "G1E2mApVol4m"
      },
      "source": [
        "```python\n",
        "text_input = keras.Input(shape=(1,), dtype=tf.string, name='text')\n",
        "x = vectorize_layer(text_input)\n",
        "x = layers.Embedding(max_features + 1, embedding_dim)(x)\n",
        "...\n",
        "```\n",
        "\n",
        "Opción 2: aplicarlo al conjunto de datos de texto para obtener un conjunto de datos de índices de palabras y luego introducirlo en un modelo que espera secuencias de números enteros como entradas.\n",
        "\n",
        "Una diferencia importante entre las dos es que la opción 2 le permite realizar un procesamiento de CPU asincrónico y almacenamiento en búfer de sus datos cuando se entrena en la GPU. Por lo tanto, si está entrenando el modelo en la GPU, probablemente desee optar por esta opción para obtener el mejor rendimiento. Esto es lo que haremos a continuación.\n",
        "\n",
        "Si tuviéramos que exportar nuestro modelo a producción, enviaríamos un modelo que acepte cadenas sin formato como entrada, como en el fragmento de código para la opción 1 anterior. Esto se puede hacer después del entrenamiento. Lo hacemos en la última sección."
      ]
    },
    {
      "cell_type": "code",
      "execution_count": null,
      "metadata": {
        "id": "qlQebwNUol4m"
      },
      "outputs": [],
      "source": [
        "\n",
        "def vectorize_text(text, label):\n",
        "    text = tf.expand_dims(text, -1)\n",
        "    return vectorize_layer(text), label\n",
        "\n",
        "\n",
        "# Vectorizar los datos.\n",
        "train_ds = raw_train_ds.map(vectorize_text)\n",
        "val_ds = raw_val_ds.map(vectorize_text)\n",
        "test_ds = raw_test_ds.map(vectorize_text)\n",
        "\n",
        "# Realice una precarga y almacenamiento en búfer asincrónicos de los\n",
        "# datos para obtener el mejor rendimiento en la GPU.\n",
        "train_ds = train_ds.cache().prefetch(buffer_size=10)\n",
        "val_ds = val_ds.cache().prefetch(buffer_size=10)\n",
        "test_ds = test_ds.cache().prefetch(buffer_size=10)"
      ]
    },
    {
      "cell_type": "markdown",
      "source": [
        "# **Construir un modelo**\n",
        "\n",
        "Elegimos una convnet 1D simple que comienza con una capa de incrustación."
      ],
      "metadata": {
        "id": "8coCUI5SWnxK"
      }
    },
    {
      "cell_type": "code",
      "execution_count": null,
      "metadata": {
        "id": "h1shVmxaol4n"
      },
      "outputs": [],
      "source": [
        "# Una entrada entera para índices de vocabulario.\n",
        "inputs = keras.Input(shape=(None,), dtype=\"int64\")\n",
        "\n",
        "# a continuación, agregamos una capa para mapear esos índices\n",
        "# de vocabulario en un espacio de dimensionalidad 'embedding_dim'.\n",
        "x = layers.Embedding(max_features, embedding_dim)(inputs)\n",
        "x = layers.Dropout(0.5)(x)\n",
        "\n",
        "# Conv1D + agrupación máxima global\n",
        "x = layers.Conv1D(128, 7, padding=\"valid\", activation=\"relu\", strides=3)(x)\n",
        "x = layers.Conv1D(128, 7, padding=\"valid\", activation=\"relu\", strides=3)(x)\n",
        "x = layers.GlobalMaxPooling1D()(x)\n",
        "\n",
        "# Añadimos una capa oculta de vainilla:\n",
        "x = layers.Dense(128, activation=\"relu\")(x)\n",
        "x = layers.Dropout(0.5)(x)\n",
        "\n",
        "# Proyectamos sobre una única capa de salida unitaria y la aplastamos\n",
        "# con un sigmoide:\n",
        "predictions = layers.Dense(1, activation=\"sigmoid\", name=\"predictions\")(x)\n",
        "\n",
        "model = keras.Model(inputs, predictions)\n",
        "\n",
        "# Compile the model with binary crossentropy loss and an adam optimizer.\n",
        "model.compile(loss=\"binary_crossentropy\", optimizer=\"adam\", metrics=[\"accuracy\"])"
      ]
    },
    {
      "cell_type": "markdown",
      "metadata": {
        "id": "tROhYuOXol4n"
      },
      "source": [
        "# **Entrenar el modelo**"
      ]
    },
    {
      "cell_type": "code",
      "execution_count": null,
      "metadata": {
        "id": "dRpQhZk3ol4n",
        "colab": {
          "base_uri": "https://localhost:8080/"
        },
        "outputId": "a91c1ab6-4347-4cb8-8999-af12f5061e74"
      },
      "outputs": [
        {
          "output_type": "stream",
          "name": "stdout",
          "text": [
            "Epoch 1/3\n",
            "\u001b[1m625/625\u001b[0m \u001b[32m━━━━━━━━━━━━━━━━━━━━\u001b[0m\u001b[37m\u001b[0m \u001b[1m109s\u001b[0m 171ms/step - accuracy: 0.5753 - loss: 0.6276 - val_accuracy: 0.8638 - val_loss: 0.3180\n",
            "Epoch 2/3\n",
            "\u001b[1m625/625\u001b[0m \u001b[32m━━━━━━━━━━━━━━━━━━━━\u001b[0m\u001b[37m\u001b[0m \u001b[1m105s\u001b[0m 169ms/step - accuracy: 0.8802 - loss: 0.2884 - val_accuracy: 0.8778 - val_loss: 0.3220\n",
            "Epoch 3/3\n",
            "\u001b[1m625/625\u001b[0m \u001b[32m━━━━━━━━━━━━━━━━━━━━\u001b[0m\u001b[37m\u001b[0m \u001b[1m139s\u001b[0m 164ms/step - accuracy: 0.9432 - loss: 0.1500 - val_accuracy: 0.8704 - val_loss: 0.4234\n"
          ]
        },
        {
          "output_type": "execute_result",
          "data": {
            "text/plain": [
              "<keras.src.callbacks.history.History at 0x7946387998a0>"
            ]
          },
          "metadata": {},
          "execution_count": 18
        }
      ],
      "source": [
        "epochs = 3\n",
        "\n",
        "# Fit the model using the train and test datasets.\n",
        "model.fit(train_ds, validation_data=val_ds, epochs=epochs)"
      ]
    },
    {
      "cell_type": "markdown",
      "metadata": {
        "id": "b-Qhg5R5ol4o"
      },
      "source": [
        "#  Evaluar el modelo en el conjunto de prueba\n"
      ]
    },
    {
      "cell_type": "code",
      "execution_count": null,
      "metadata": {
        "id": "_AP5usqQol4o",
        "colab": {
          "base_uri": "https://localhost:8080/"
        },
        "outputId": "7f0dbd1a-4b61-4cd9-ce7c-3220e0dedc1f"
      },
      "outputs": [
        {
          "output_type": "stream",
          "name": "stdout",
          "text": [
            "\u001b[1m782/782\u001b[0m \u001b[32m━━━━━━━━━━━━━━━━━━━━\u001b[0m\u001b[37m\u001b[0m \u001b[1m30s\u001b[0m 38ms/step - accuracy: 0.8584 - loss: 0.4429\n"
          ]
        },
        {
          "output_type": "execute_result",
          "data": {
            "text/plain": [
              "[0.4363093674182892, 0.859279990196228]"
            ]
          },
          "metadata": {},
          "execution_count": 19
        }
      ],
      "source": [
        "model.evaluate(test_ds)"
      ]
    },
    {
      "cell_type": "markdown",
      "source": [
        "# **Resultados de Evaluación**\n",
        "\n",
        "El modelo se evaluó en el conjunto de prueba con los siguientes resultados:\n",
        "\n",
        "Accuracy (Precisión): 0.8584\n",
        "\n",
        "Loss (Pérdida): 0.4429\n",
        "\n",
        "Interpretación de la Precisión (Accuracy):\n",
        "\n",
        "La precisión del modelo es del 85.84%, lo que indica que el modelo clasifica correctamente aproximadamente el 86% de los ejemplos en el conjunto de prueba. Esto es un buen resultado, especialmente si consideramos que el conjunto de datos tiene dos clases casi balanceadas.\n",
        "\n",
        "Evaluación de la Pérdida (Loss):\n",
        "\n",
        "La pérdida de 0.4429 indica el error del modelo en la predicción. En general, una pérdida más baja es deseable. Dado que la precisión es bastante alta, esto sugiere que el modelo ha aprendido bien las características del conjunto de datos, aunque siempre se puede trabajar en la optimización para mejorar aún más la pérdida.\n",
        "\n",
        "Balance entre Precisión y Pérdida:\n",
        "\n",
        "La combinación de una alta precisión y una pérdida relativamente baja sugiere que el modelo no solo está acertando en sus predicciones, sino que también está evitando grandes errores. Esto es especialmente importante en problemas de clasificación, donde una alta precisión puede ser engañosa si el modelo está muy confiado en sus predicciones.\n",
        "\n",
        "Posibles Mejoras:\n",
        "\n",
        "Aunque el modelo tiene un buen desempeño, se podrían explorar estrategias adicionales para mejorar aún más su rendimiento. Esto puede incluir la ajuste de hiperparámetros, la implementación de técnicas de regularización o la incorporación de más datos de entrenamiento.\n",
        "\n",
        "Contexto:\n",
        "\n",
        "En el contexto del presente problema que se esta resolviendo, considero que no es relevante hacer mas ajustes, pero si  se tratara de una tarea crítica (como detección de fraudes o diagnóstico médico), entonces la precisión y la pérdida pueden tener implicaciones significativas."
      ],
      "metadata": {
        "id": "jLkfT8c_SsJQ"
      }
    },
    {
      "cell_type": "markdown",
      "metadata": {
        "id": "64yUgxDQol4o"
      },
      "source": [
        "## Crea un modelo de extremo a extremo\n",
        "\n",
        "Si quieres obtener un modelo capaz de procesar cadenas sin formato, puedes simplemente\n",
        "crear un nuevo modelo (usando los pesos que acabamos de entrenar):"
      ]
    },
    {
      "cell_type": "code",
      "execution_count": null,
      "metadata": {
        "id": "7Uy0NVwFol4o",
        "colab": {
          "base_uri": "https://localhost:8080/"
        },
        "outputId": "dee6bb18-97ff-40c3-b671-8c696ae1b77c"
      },
      "outputs": [
        {
          "output_type": "stream",
          "name": "stdout",
          "text": [
            "\u001b[1m782/782\u001b[0m \u001b[32m━━━━━━━━━━━━━━━━━━━━\u001b[0m\u001b[37m\u001b[0m \u001b[1m37s\u001b[0m 46ms/step - accuracy: 0.8586 - loss: 0.0000e+00\n"
          ]
        },
        {
          "output_type": "execute_result",
          "data": {
            "text/plain": [
              "[0.0, 0.0, 0.859279990196228, 0.859279990196228]"
            ]
          },
          "metadata": {},
          "execution_count": 20
        }
      ],
      "source": [
        "# A string input\n",
        "inputs = keras.Input(shape=(1,), dtype=\"string\")\n",
        "# Turn strings into vocab indices\n",
        "indices = vectorize_layer(inputs)\n",
        "# Turn vocab indices into predictions\n",
        "outputs = model(indices)\n",
        "\n",
        "# Our end to end model\n",
        "end_to_end_model = keras.Model(inputs, outputs)\n",
        "end_to_end_model.compile(\n",
        "    loss=\"binary_crossentropy\", optimizer=\"adam\", metrics=[\"accuracy\"]\n",
        ")\n",
        "\n",
        "# Test it with `raw_test_ds`, which yields raw strings\n",
        "end_to_end_model.evaluate(raw_test_ds)"
      ]
    },
    {
      "cell_type": "markdown",
      "source": [
        "# **Aclaraciones al Cuetionario y Consideraciones finales**\n",
        "\n",
        "\n",
        "con respecto a las preguntas:\n",
        "\n",
        "1) **Describa las principales características del dataset utilizado**.\n",
        "\n",
        "esto fue detallado en los primeros pasos bajo el titulo:\n",
        "\n",
        "#          **\"Resumen de la División de Datos\"**\n",
        "\n",
        "2) **Comentar la experiencia al correr el código en sus computadoras.**\n",
        "\n",
        "no he tenido ningun inconveniente con ningun paso, excepto que en un momento reinicie el proceso y me saltee un paso y obviamente el siguiente paso me dio error po variable no definida, procese el paso anterior y todo solucionado.\n",
        "Con respecto al GPU, aun no lo tengo instalado, por ello no puedo opinar aun,en la proxima semana lo tendre instalado.\n",
        "\n",
        "Todas la bibliotecas y dependencias se instalaron normalmente y no me falto ninguna. Las versiones de las bibliotecas en todos los casos estaban actualizadas y no me salio ningun mensaje de atencion sobre la actualizacion\n",
        "\n",
        "3) **Explicar el pre-procesamiento realizado en el dataset.**\n",
        "\n",
        "Preprocesamiento y Construcción del Modelo\n",
        "\n",
        "**1. Preparación de los Datos**\n",
        "\n",
        "En primer lugar, se ha llevado a cabo una adecuada preparación de los datos a través de la vectorización, que transforma el texto en índices numéricos, lo que es esencial para que el modelo pueda procesar la información textual. La función vectorize_text utiliza una capa de vectorización (vectorize_layer) para convertir el texto en índices de vocabulario y luego se aplica a los datasets de entrenamiento, validación y prueba:\n",
        "\n",
        "\n",
        "def vectorize_text(text, label):\n",
        "    text = tf.expand_dims(text, -1)\n",
        "    return vectorize_layer(text), label\n",
        "\n",
        "2. Vectorizar los datos.\n",
        "train_ds = raw_train_ds.map(vectorize_text)\n",
        "val_ds = raw_val_ds.map(vectorize_text)\n",
        "test_ds = raw_test_ds.map(vectorize_text)\n",
        "\n",
        "Además, se implementa un almacenamiento en búfer y prefetching en los datasets, lo que mejora significativamente el rendimiento al cargar los datos de manera eficiente:\n",
        "\n",
        "\n",
        "\n",
        "3. Realice una precarga y almacenamiento en búfer asincrónicos de los\n",
        " datos para obtener el mejor rendimiento en la GPU.\n",
        "\n",
        "train_ds = train_ds.cache().prefetch(buffer_size=10)\n",
        "val_ds = val_ds.cache().prefetch(buffer_size=10)\n",
        "test_ds = test_ds.cache().prefetch(buffer_size=10)\n",
        "\n",
        "4. Construcción del Modelo\n",
        "La construcción del modelo se realiza mediante la creación de una arquitectura que incluye una capa de entrada para los índices de vocabulario, seguido de una capa de embedding que mapea esos índices a un espacio de menor dimensionalidad. A continuación, se utilizan capas convolucionales y de agrupamiento para extraer características relevantes del texto:\n",
        "\n",
        "\n",
        "5. Una entrada entera para índices de vocabulario.\n",
        "\n",
        "inputs = keras.Input(shape=(None,), dtype=\"int64\")\n",
        "\n",
        "6. Agregamos una capa para mapear esos índices en un espacio de dimensionalidad 'embedding_dim'.\n",
        "\n",
        "x = layers.Embedding(max_features, embedding_dim)(inputs)\n",
        "x = layers.Dropout(0.5)(x)\n",
        "\n",
        "7. Conv1D + agrupación máxima global\n",
        "x = layers.Conv1D(128, 7, padding=\"valid\", activation=\"relu\", strides=3)(x)\n",
        "x = layers.Conv1D(128, 7, padding=\"valid\", activation=\"relu\", strides=3)(x)\n",
        "x = layers.GlobalMaxPooling1D()(x)\n",
        "\n",
        "8. Añadimos una capa oculta\n",
        "x = layers.Dense(128, activation=\"relu\")(x)\n",
        "x = layers.Dropout(0.5)(x)\n",
        "\n",
        "9. Proyectamos sobre una única capa de salida unitaria y aplicamos una función sigmoide\n",
        "\n",
        "predictions = layers.Dense(1, activation=\"sigmoid\", name=\"predictions\")(x)\n",
        "\n",
        "model = keras.Model(inputs, predictions)\n",
        "\n",
        "10. Compilamos el modelo con la pérdida de entropía cruzada binaria y un optimizador Adam.\n",
        "\n",
        "model.compile(loss=\"binary_crossentropy\", optimizer=\"adam\", metrics=[\"accuracy\"])\n",
        "\n",
        "# **Conclusión**\n",
        "\n",
        "El preprocesamiento del dataset y la construcción del modelo han sido realizados de manera eficaz, lo que permite al modelo manejar el texto de forma eficiente y aprender patrones significativos de los datos. La vectorización del texto, combinada con técnicas de almacenamiento en búfer y prefetching, asegura que el modelo tenga acceso rápido a los datos, optimizando el rendimiento durante el entrenamiento. La arquitectura del modelo, que incorpora capas de embedding y convolucionales, está diseñada para capturar la complejidad del lenguaje y generar predicciones precisas.\n",
        "\n",
        "\n",
        "**Postee también el resultado final de evaluación del modelo ( la salida del apartado \"Evaluate the model on the test set)**\n",
        "\n",
        "Esto  fue desarrollado en el apartado:\n",
        "\n",
        "#             **Resultados de Evaluación**\n",
        "\n",
        "\n",
        "4) **En este ejemplo para evaluar el modelo utiliza la métrica accuracy. ¿Qué opina al respecto? ¿Está bien/mal? ¿sumaría otra métrica?**\n",
        "\n",
        "Opinión sobre la Métrica Accuracy\n",
        "\n",
        "Estado Actual: Actualmente, se está utilizando la métrica de accuracy para evaluar el rendimiento del modelo.\n",
        "\n",
        "Análisis Crítico: La métrica de accuracy representa la proporción de predicciones correctas sobre el total de predicciones realizadas. Aunque puede ser un buen indicador del rendimiento en datasets balanceados, tiene limitaciones significativas, especialmente en situaciones donde las clases están desbalanceadas. Por ejemplo, si un dataset contiene un 90% de ejemplos de una clase y solo un 10% de la otra, un modelo que predice siempre la clase mayoritaria puede alcanzar una alta accuracy del 90%, a pesar de no ser útil para identificar correctamente la clase minoritaria.\n",
        "\n",
        "Otras Métricas a Considerar:\n",
        "\n",
        "Precision: Esta métrica indica la proporción de verdaderos positivos respecto al total de positivos predichos. Es especialmente útil cuando el costo de falsos positivos es alto, ya que se enfoca en la calidad de las predicciones positivas.\n",
        "\n",
        "Recall (Sensibilidad): Mide la proporción de verdaderos positivos entre el total de positivos reales. Es crucial cuando es más importante no perder ejemplos de la clase positiva, como en el diagnóstico médico.\n",
        "\n",
        "F1-Score: Es la media armónica de precision y recall, proporcionando un balance entre ambas. Es útil cuando se necesita un equilibrio entre detectar correctamente la clase positiva y minimizar los falsos positivos.\n",
        "\n",
        "AUC-ROC: El Área Bajo la Curva (AUC) de la curva de características operativas del receptor (ROC) mide la capacidad del modelo para distinguir entre las clases. Un AUC de 0.5 indica un rendimiento aleatorio, mientras que un valor de 1 indica un modelo perfecto. Esta métrica es particularmente informativa en problemas desbalanceados, ya que muestra el rendimiento en diferentes umbrales de clasificación.\n",
        "\n",
        "Conclusión: En resumen, aunque la accuracy es una métrica fácil de interpretar y utilizar, puede no ser suficiente por sí sola en tareas donde el desbalanceo de clases es un factor crítico. Por lo tanto, se recomienda utilizar métricas complementarias como precision, recall, F1-score o AUC-ROC para obtener una evaluación más completa y precisa del modelo. En este caso del trabajo, me parecio acertada\n",
        "\n",
        "5) Comente alguna parte que le haya llamado la atención y por qué.\n",
        "**texto en negrita**\n",
        "Interés en la Evaluación de Modelos\n",
        "\n",
        "Durante el desarrollo de este trabajo, me llamó particularmente la atención la importancia de las métricas accuracy y loss en la evaluación de modelos de clasificación. Mi interés radica no solo en la facilidad con la que estas métricas pueden ser aplicadas, sino también en cómo proporcionan una visión clara del rendimiento del modelo.\n",
        "\n",
        "La precisión (accuracy) refleja la proporción de predicciones correctas realizadas por el modelo, lo que resulta fundamental para validar su efectividad general. A su vez, la pérdida (loss) permite evaluar cuán bien el modelo está ajustando sus predicciones en cada iteración de entrenamiento, proporcionando una medida crítica del proceso de optimización.\n",
        "\n",
        "Lo que más me impactó es cómo estas métricas no solo resumen el desempeño del modelo, sino que también permiten detectar posibles áreas de mejora. En mi experiencia profesional como consultor y coach, siempre he buscado métodos que permitan medir el progreso tanto en el desarrollo empresarial como en los procesos de crecimiento personal de mis clientes. La evaluación continua y el ajuste basado en métricas cuantificables han sido esenciales para lograr mejores resultados.\n",
        "\n",
        "Por lo tanto, el uso de métricas como accuracy y loss en este trabajo resuena particularmente conmigo, ya que representan una metodología estructurada y cuantificable para medir avances, de manera similar a cómo he gestionado el progreso en mis proyectos de consultoría. Estas métricas son el reflejo de la importancia de contar con indicadores claros y objetivos, que no solo permiten entender el estado actual de un proceso, sino también guiar la toma de decisiones en busca de mejoras continuas. Esto me motiva a seguir profundizando en el uso de estas herramientas en contextos donde la medición precisa es clave para el éxito.\n",
        "\n",
        "6) **Escriba las dudas que hayan quedado de realizar este trabajo.**\n",
        "\n",
        "Dudas y Reflexiones Finales\n",
        "\n",
        "La realización de este trabajo, siguiendo el ejemplo proporcionado por la docente, me permitió adquirir una visión mucho más clara y estructurada de los pasos a seguir en este tipo de problemáticas de clasificación. El cuestionario propuesto fue un desafío que me impulsó a profundizar en cada etapa del proceso, permitiéndome no solo comprender los detalles técnicos, sino también analizar los resultados intermedios y su relevancia para el ajuste y optimización del modelo.\n",
        "\n",
        "Cada paso del desarrollo, desde el preprocesamiento hasta la evaluación del modelo, se convirtió en una oportunidad para interiorizarme más en el porqué y el para qué de cada técnica utilizada, lo que me ayudó a asentar las bases para futuros trabajos de esta naturaleza.\n",
        "\n",
        "En cuanto a las dudas iniciales que tenía, la investigación y el análisis realizado me permitieron resolverlas con mayor claridad. Sin embargo, quedan abiertas grandes interrogantes sobre cómo continuar mejorando y optimizando estos procesos en futuros proyectos. Específicamente, me interesa explorar más a fondo aspectos como la optimización de hiperparámetros y el uso de métricas adicionales que me permitan tener una evaluación más robusta del modelo, especialmente en datasets con desbalance de clases.\n",
        "\n",
        "Este trabajo no solo me brindó herramientas concretas para seguir avanzando con confianza en esta área, sino que también reforzó mi motivación para seguir aprendiendo y profundizando en temas relacionados con la evaluación de modelos, un campo tan crucial como fascinante en el desarrollo de soluciones de inteligencia artificial."
      ],
      "metadata": {
        "id": "X0D-6agfdxdy"
      }
    }
  ]
}